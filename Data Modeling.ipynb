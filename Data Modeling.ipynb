{
 "cells": [
  {
   "cell_type": "code",
   "execution_count": 325,
   "id": "limited-reflection",
   "metadata": {},
   "outputs": [],
   "source": [
    "import warnings\n",
    "warnings.filterwarnings(\"ignore\")\n",
    "\n",
    "import re\n",
    "import time\n",
    "\n",
    "import pandas as pd\n",
    "import numpy as np\n",
    "\n",
    "import matplotlib.pyplot as plt\n",
    "\n",
    "from sklearn.decomposition import PCA\n",
    "from sklearn.cluster import KMeans"
   ]
  },
  {
   "cell_type": "code",
   "execution_count": 295,
   "id": "fabulous-therapy",
   "metadata": {},
   "outputs": [],
   "source": [
    "df=pd.read_csv('cleaned_data.csv')\n",
    "df['movie_title'] = df['movie_title'].apply(lambda x: str(x).replace(u'\\xa0', u''))"
   ]
  },
  {
   "cell_type": "code",
   "execution_count": 296,
   "id": "given-closing",
   "metadata": {},
   "outputs": [],
   "source": [
    "X=df.iloc[:,df.columns != 'movie_title']"
   ]
  },
  {
   "cell_type": "code",
   "execution_count": 297,
   "id": "cubic-camel",
   "metadata": {},
   "outputs": [
    {
     "data": {
      "text/html": [
       "<div>\n",
       "<style scoped>\n",
       "    .dataframe tbody tr th:only-of-type {\n",
       "        vertical-align: middle;\n",
       "    }\n",
       "\n",
       "    .dataframe tbody tr th {\n",
       "        vertical-align: top;\n",
       "    }\n",
       "\n",
       "    .dataframe thead th {\n",
       "        text-align: right;\n",
       "    }\n",
       "</style>\n",
       "<table border=\"1\" class=\"dataframe\">\n",
       "  <thead>\n",
       "    <tr style=\"text-align: right;\">\n",
       "      <th></th>\n",
       "      <th>duration</th>\n",
       "      <th>title_year</th>\n",
       "      <th>imdb_score</th>\n",
       "      <th>Action</th>\n",
       "      <th>Adventure</th>\n",
       "      <th>Animation</th>\n",
       "      <th>Biography</th>\n",
       "      <th>Comedy</th>\n",
       "      <th>Crime</th>\n",
       "      <th>Documentary</th>\n",
       "      <th>...</th>\n",
       "      <th>actor3_col4</th>\n",
       "      <th>actor3_col5</th>\n",
       "      <th>actor3_col6</th>\n",
       "      <th>actor3_col7</th>\n",
       "      <th>actor3_col8</th>\n",
       "      <th>actor3_col9</th>\n",
       "      <th>actor3_col10</th>\n",
       "      <th>actor3_col11</th>\n",
       "      <th>actor3_col12</th>\n",
       "      <th>actor3_col13</th>\n",
       "    </tr>\n",
       "  </thead>\n",
       "  <tbody>\n",
       "    <tr>\n",
       "      <th>0</th>\n",
       "      <td>148.0</td>\n",
       "      <td>2015</td>\n",
       "      <td>6.8</td>\n",
       "      <td>1</td>\n",
       "      <td>1</td>\n",
       "      <td>0</td>\n",
       "      <td>0</td>\n",
       "      <td>0</td>\n",
       "      <td>0</td>\n",
       "      <td>0</td>\n",
       "      <td>...</td>\n",
       "      <td>1</td>\n",
       "      <td>1</td>\n",
       "      <td>0</td>\n",
       "      <td>1</td>\n",
       "      <td>1</td>\n",
       "      <td>0</td>\n",
       "      <td>1</td>\n",
       "      <td>1</td>\n",
       "      <td>0</td>\n",
       "      <td>1</td>\n",
       "    </tr>\n",
       "    <tr>\n",
       "      <th>1</th>\n",
       "      <td>132.0</td>\n",
       "      <td>2012</td>\n",
       "      <td>6.6</td>\n",
       "      <td>1</td>\n",
       "      <td>1</td>\n",
       "      <td>0</td>\n",
       "      <td>0</td>\n",
       "      <td>0</td>\n",
       "      <td>0</td>\n",
       "      <td>0</td>\n",
       "      <td>...</td>\n",
       "      <td>0</td>\n",
       "      <td>0</td>\n",
       "      <td>1</td>\n",
       "      <td>1</td>\n",
       "      <td>0</td>\n",
       "      <td>0</td>\n",
       "      <td>0</td>\n",
       "      <td>0</td>\n",
       "      <td>0</td>\n",
       "      <td>0</td>\n",
       "    </tr>\n",
       "    <tr>\n",
       "      <th>2</th>\n",
       "      <td>100.0</td>\n",
       "      <td>2010</td>\n",
       "      <td>7.8</td>\n",
       "      <td>0</td>\n",
       "      <td>1</td>\n",
       "      <td>1</td>\n",
       "      <td>0</td>\n",
       "      <td>1</td>\n",
       "      <td>0</td>\n",
       "      <td>0</td>\n",
       "      <td>...</td>\n",
       "      <td>0</td>\n",
       "      <td>1</td>\n",
       "      <td>0</td>\n",
       "      <td>0</td>\n",
       "      <td>1</td>\n",
       "      <td>0</td>\n",
       "      <td>1</td>\n",
       "      <td>1</td>\n",
       "      <td>0</td>\n",
       "      <td>0</td>\n",
       "    </tr>\n",
       "    <tr>\n",
       "      <th>3</th>\n",
       "      <td>141.0</td>\n",
       "      <td>2015</td>\n",
       "      <td>7.5</td>\n",
       "      <td>1</td>\n",
       "      <td>1</td>\n",
       "      <td>0</td>\n",
       "      <td>0</td>\n",
       "      <td>0</td>\n",
       "      <td>0</td>\n",
       "      <td>0</td>\n",
       "      <td>...</td>\n",
       "      <td>1</td>\n",
       "      <td>0</td>\n",
       "      <td>1</td>\n",
       "      <td>0</td>\n",
       "      <td>1</td>\n",
       "      <td>0</td>\n",
       "      <td>0</td>\n",
       "      <td>0</td>\n",
       "      <td>1</td>\n",
       "      <td>0</td>\n",
       "    </tr>\n",
       "    <tr>\n",
       "      <th>4</th>\n",
       "      <td>153.0</td>\n",
       "      <td>2009</td>\n",
       "      <td>7.5</td>\n",
       "      <td>0</td>\n",
       "      <td>1</td>\n",
       "      <td>0</td>\n",
       "      <td>0</td>\n",
       "      <td>0</td>\n",
       "      <td>0</td>\n",
       "      <td>0</td>\n",
       "      <td>...</td>\n",
       "      <td>1</td>\n",
       "      <td>0</td>\n",
       "      <td>0</td>\n",
       "      <td>0</td>\n",
       "      <td>1</td>\n",
       "      <td>0</td>\n",
       "      <td>0</td>\n",
       "      <td>1</td>\n",
       "      <td>1</td>\n",
       "      <td>0</td>\n",
       "    </tr>\n",
       "    <tr>\n",
       "      <th>...</th>\n",
       "      <td>...</td>\n",
       "      <td>...</td>\n",
       "      <td>...</td>\n",
       "      <td>...</td>\n",
       "      <td>...</td>\n",
       "      <td>...</td>\n",
       "      <td>...</td>\n",
       "      <td>...</td>\n",
       "      <td>...</td>\n",
       "      <td>...</td>\n",
       "      <td>...</td>\n",
       "      <td>...</td>\n",
       "      <td>...</td>\n",
       "      <td>...</td>\n",
       "      <td>...</td>\n",
       "      <td>...</td>\n",
       "      <td>...</td>\n",
       "      <td>...</td>\n",
       "      <td>...</td>\n",
       "      <td>...</td>\n",
       "      <td>...</td>\n",
       "    </tr>\n",
       "    <tr>\n",
       "      <th>4501</th>\n",
       "      <td>81.0</td>\n",
       "      <td>1992</td>\n",
       "      <td>6.9</td>\n",
       "      <td>1</td>\n",
       "      <td>0</td>\n",
       "      <td>0</td>\n",
       "      <td>0</td>\n",
       "      <td>0</td>\n",
       "      <td>1</td>\n",
       "      <td>0</td>\n",
       "      <td>...</td>\n",
       "      <td>0</td>\n",
       "      <td>0</td>\n",
       "      <td>0</td>\n",
       "      <td>0</td>\n",
       "      <td>1</td>\n",
       "      <td>0</td>\n",
       "      <td>0</td>\n",
       "      <td>1</td>\n",
       "      <td>1</td>\n",
       "      <td>0</td>\n",
       "    </tr>\n",
       "    <tr>\n",
       "      <th>4502</th>\n",
       "      <td>84.0</td>\n",
       "      <td>2005</td>\n",
       "      <td>7.8</td>\n",
       "      <td>0</td>\n",
       "      <td>0</td>\n",
       "      <td>0</td>\n",
       "      <td>0</td>\n",
       "      <td>0</td>\n",
       "      <td>1</td>\n",
       "      <td>0</td>\n",
       "      <td>...</td>\n",
       "      <td>1</td>\n",
       "      <td>0</td>\n",
       "      <td>1</td>\n",
       "      <td>0</td>\n",
       "      <td>0</td>\n",
       "      <td>0</td>\n",
       "      <td>0</td>\n",
       "      <td>0</td>\n",
       "      <td>1</td>\n",
       "      <td>1</td>\n",
       "    </tr>\n",
       "    <tr>\n",
       "      <th>4503</th>\n",
       "      <td>95.0</td>\n",
       "      <td>2011</td>\n",
       "      <td>6.4</td>\n",
       "      <td>0</td>\n",
       "      <td>0</td>\n",
       "      <td>0</td>\n",
       "      <td>0</td>\n",
       "      <td>1</td>\n",
       "      <td>0</td>\n",
       "      <td>0</td>\n",
       "      <td>...</td>\n",
       "      <td>0</td>\n",
       "      <td>0</td>\n",
       "      <td>1</td>\n",
       "      <td>0</td>\n",
       "      <td>0</td>\n",
       "      <td>1</td>\n",
       "      <td>0</td>\n",
       "      <td>1</td>\n",
       "      <td>0</td>\n",
       "      <td>1</td>\n",
       "    </tr>\n",
       "    <tr>\n",
       "      <th>4504</th>\n",
       "      <td>100.0</td>\n",
       "      <td>2012</td>\n",
       "      <td>6.3</td>\n",
       "      <td>0</td>\n",
       "      <td>0</td>\n",
       "      <td>0</td>\n",
       "      <td>0</td>\n",
       "      <td>1</td>\n",
       "      <td>0</td>\n",
       "      <td>0</td>\n",
       "      <td>...</td>\n",
       "      <td>0</td>\n",
       "      <td>1</td>\n",
       "      <td>1</td>\n",
       "      <td>1</td>\n",
       "      <td>1</td>\n",
       "      <td>1</td>\n",
       "      <td>1</td>\n",
       "      <td>1</td>\n",
       "      <td>1</td>\n",
       "      <td>1</td>\n",
       "    </tr>\n",
       "    <tr>\n",
       "      <th>4505</th>\n",
       "      <td>90.0</td>\n",
       "      <td>2004</td>\n",
       "      <td>6.6</td>\n",
       "      <td>0</td>\n",
       "      <td>0</td>\n",
       "      <td>0</td>\n",
       "      <td>0</td>\n",
       "      <td>0</td>\n",
       "      <td>0</td>\n",
       "      <td>1</td>\n",
       "      <td>...</td>\n",
       "      <td>1</td>\n",
       "      <td>0</td>\n",
       "      <td>0</td>\n",
       "      <td>1</td>\n",
       "      <td>1</td>\n",
       "      <td>1</td>\n",
       "      <td>0</td>\n",
       "      <td>1</td>\n",
       "      <td>1</td>\n",
       "      <td>0</td>\n",
       "    </tr>\n",
       "  </tbody>\n",
       "</table>\n",
       "<p>4506 rows × 91 columns</p>\n",
       "</div>"
      ],
      "text/plain": [
       "      duration  title_year  imdb_score  Action  Adventure  Animation  \\\n",
       "0        148.0        2015         6.8       1          1          0   \n",
       "1        132.0        2012         6.6       1          1          0   \n",
       "2        100.0        2010         7.8       0          1          1   \n",
       "3        141.0        2015         7.5       1          1          0   \n",
       "4        153.0        2009         7.5       0          1          0   \n",
       "...        ...         ...         ...     ...        ...        ...   \n",
       "4501      81.0        1992         6.9       1          0          0   \n",
       "4502      84.0        2005         7.8       0          0          0   \n",
       "4503      95.0        2011         6.4       0          0          0   \n",
       "4504     100.0        2012         6.3       0          0          0   \n",
       "4505      90.0        2004         6.6       0          0          0   \n",
       "\n",
       "      Biography  Comedy  Crime  Documentary  ...  actor3_col4  actor3_col5  \\\n",
       "0             0       0      0            0  ...            1            1   \n",
       "1             0       0      0            0  ...            0            0   \n",
       "2             0       1      0            0  ...            0            1   \n",
       "3             0       0      0            0  ...            1            0   \n",
       "4             0       0      0            0  ...            1            0   \n",
       "...         ...     ...    ...          ...  ...          ...          ...   \n",
       "4501          0       0      1            0  ...            0            0   \n",
       "4502          0       0      1            0  ...            1            0   \n",
       "4503          0       1      0            0  ...            0            0   \n",
       "4504          0       1      0            0  ...            0            1   \n",
       "4505          0       0      0            1  ...            1            0   \n",
       "\n",
       "      actor3_col6  actor3_col7  actor3_col8  actor3_col9  actor3_col10  \\\n",
       "0               0            1            1            0             1   \n",
       "1               1            1            0            0             0   \n",
       "2               0            0            1            0             1   \n",
       "3               1            0            1            0             0   \n",
       "4               0            0            1            0             0   \n",
       "...           ...          ...          ...          ...           ...   \n",
       "4501            0            0            1            0             0   \n",
       "4502            1            0            0            0             0   \n",
       "4503            1            0            0            1             0   \n",
       "4504            1            1            1            1             1   \n",
       "4505            0            1            1            1             0   \n",
       "\n",
       "      actor3_col11  actor3_col12  actor3_col13  \n",
       "0                1             0             1  \n",
       "1                0             0             0  \n",
       "2                1             0             0  \n",
       "3                0             1             0  \n",
       "4                1             1             0  \n",
       "...            ...           ...           ...  \n",
       "4501             1             1             0  \n",
       "4502             0             1             1  \n",
       "4503             1             0             1  \n",
       "4504             1             1             1  \n",
       "4505             1             1             0  \n",
       "\n",
       "[4506 rows x 91 columns]"
      ]
     },
     "execution_count": 297,
     "metadata": {},
     "output_type": "execute_result"
    }
   ],
   "source": [
    "X"
   ]
  },
  {
   "cell_type": "markdown",
   "id": "metric-identifier",
   "metadata": {},
   "source": [
    "## PCA for noise reduction"
   ]
  },
  {
   "cell_type": "code",
   "execution_count": 298,
   "id": "vulnerable-repair",
   "metadata": {},
   "outputs": [],
   "source": [
    "pca=PCA()"
   ]
  },
  {
   "cell_type": "code",
   "execution_count": 299,
   "id": "static-acceptance",
   "metadata": {},
   "outputs": [],
   "source": [
    "X_pca=pca.fit_transform(X)"
   ]
  },
  {
   "cell_type": "code",
   "execution_count": 300,
   "id": "everyday-coverage",
   "metadata": {},
   "outputs": [],
   "source": [
    "var_ratio=pca.explained_variance_ratio_"
   ]
  },
  {
   "cell_type": "code",
   "execution_count": 301,
   "id": "renewable-leone",
   "metadata": {},
   "outputs": [
    {
     "data": {
      "text/plain": [
       "array([6.27615695e-01, 3.40059876e-01, 2.48810662e-03, 1.13560419e-03,\n",
       "       8.97588495e-04, 8.43472617e-04, 8.06907401e-04, 7.89757624e-04,\n",
       "       7.65976414e-04, 7.25106121e-04, 7.08839991e-04, 6.92442494e-04,\n",
       "       6.75343018e-04, 6.70044965e-04, 6.61659489e-04, 6.46480767e-04,\n",
       "       6.39201949e-04, 6.36296722e-04, 6.29243282e-04, 6.23362687e-04,\n",
       "       6.18309225e-04, 6.07344450e-04, 6.02261312e-04, 5.95984731e-04,\n",
       "       5.91049870e-04, 5.86987036e-04, 5.82075191e-04, 5.71558634e-04,\n",
       "       5.66302638e-04, 5.62370109e-04, 5.54261281e-04, 5.47438128e-04,\n",
       "       5.38026478e-04, 5.26509764e-04, 5.25321804e-04, 5.22215228e-04,\n",
       "       5.16357700e-04, 5.09090233e-04, 4.79225405e-04, 4.70368748e-04,\n",
       "       4.55154745e-04, 4.54518628e-04, 4.48056868e-04, 4.09406000e-04,\n",
       "       3.90161441e-04, 3.39529919e-04, 3.07556511e-04, 2.62775947e-04,\n",
       "       2.56453593e-04, 2.46255627e-04, 2.37479666e-04, 2.32496116e-04,\n",
       "       1.98503232e-04, 1.88485557e-04, 1.74370794e-04, 1.55253667e-04,\n",
       "       1.38321343e-04, 1.23548442e-04, 1.10933258e-04, 9.82195491e-05,\n",
       "       9.44738304e-05, 9.02506723e-05, 7.86392637e-05, 7.55070277e-05,\n",
       "       6.87437071e-05, 5.72123312e-05, 5.25286604e-05, 5.10877150e-05,\n",
       "       4.94038915e-05, 4.72237257e-05, 4.03417458e-05, 3.85268172e-05,\n",
       "       3.24919648e-05, 3.16132667e-05, 2.94772731e-05, 2.80026916e-05,\n",
       "       2.28645510e-05, 2.06143836e-05, 1.87658123e-05, 1.82198621e-05,\n",
       "       1.21195629e-05, 7.53850191e-06, 6.71853514e-06, 5.63999357e-06,\n",
       "       4.76462252e-06, 2.44530728e-06, 2.24695277e-06, 9.92238721e-07,\n",
       "       6.22957601e-33, 6.22957601e-33, 6.22957601e-33])"
      ]
     },
     "execution_count": 301,
     "metadata": {},
     "output_type": "execute_result"
    }
   ],
   "source": [
    "var_ratio"
   ]
  },
  {
   "cell_type": "code",
   "execution_count": 302,
   "id": "faa27cfe",
   "metadata": {},
   "outputs": [
    {
     "data": {
      "image/png": "[encoded data removed]",
      "text/plain": [
       "<Figure size 432x288 with 1 Axes>"
      ]
     },
     "metadata": {
      "needs_background": "light"
     },
     "output_type": "display_data"
    }
   ],
   "source": [
    "plt.scatter(range(len(var_ratio.cumsum()[:15])), var_ratio.cumsum()[:15])\n",
    "plt.xlabel(\"Number of PCs\")\n",
    "plt.ylabel(\"Variance Explained\");"
   ]
  },
  {
   "cell_type": "code",
   "execution_count": 303,
   "id": "impressed-department",
   "metadata": {},
   "outputs": [
    {
     "data": {
      "image/png": "[encoded data removed]",
      "text/plain": [
       "<Figure size 432x288 with 1 Axes>"
      ]
     },
     "metadata": {
      "needs_background": "light"
     },
     "output_type": "display_data"
    }
   ],
   "source": [
    "plt.scatter(X_pca[:,0], X_pca[:,1])\n",
    "plt.xlabel('PC1')\n",
    "plt.ylabel('PC2')\n",
    "plt.show()"
   ]
  },
  {
   "cell_type": "code",
   "execution_count": 304,
   "id": "cleared-spokesman",
   "metadata": {},
   "outputs": [
    {
     "data": {
      "text/plain": [
       "array([ 4.02443344e+01, -1.69020153e+01,  6.76351025e-01,  2.07379668e-01,\n",
       "        1.31198548e+00, -1.47866789e-01,  8.90229557e-01, -1.94758178e-01,\n",
       "       -6.68096566e-01,  1.06579961e-01,  5.96731376e-01,  2.38928082e-01,\n",
       "        3.62392798e-01,  6.56049724e-01,  5.17135611e-01, -6.15227925e-01,\n",
       "        1.75834699e-01, -5.43908985e-01,  4.72313819e-01, -2.17716382e-01,\n",
       "        9.09962348e-01, -5.96036529e-01, -4.83485812e-02, -2.33052649e-01,\n",
       "       -1.24285566e-01, -6.89760599e-02, -3.44646213e-01,  1.29848119e-01,\n",
       "        2.03591868e-01, -4.57195018e-02,  6.25264034e-01, -1.26752451e+00,\n",
       "       -9.24558881e-01,  2.52246504e-02,  4.27244092e-01,  5.35300645e-01,\n",
       "       -2.39389823e-01, -2.67550919e-01,  2.73056823e-01, -8.81734173e-02,\n",
       "        6.22049265e-01,  9.71026776e-01,  2.94549466e-01,  1.17657751e-01,\n",
       "        5.61526866e-02,  2.46158884e-01,  5.17497654e-02,  1.92348441e-01,\n",
       "       -4.91129921e-01,  5.74025455e-01,  2.96350081e-02,  3.04088037e-01,\n",
       "       -6.39699035e-01, -1.88570538e-01, -3.80198624e-01, -1.23106883e-01,\n",
       "       -4.89554172e-02,  2.32811514e-02, -2.71387354e-01,  5.13645456e-02,\n",
       "        1.36277351e-01, -1.03660073e-01,  1.28393231e-01,  7.66788716e-02,\n",
       "       -8.84823384e-02,  2.76530278e-02,  6.05241713e-03, -5.00583917e-04,\n",
       "       -4.89706917e-02,  4.28962669e-02,  2.06738928e-02, -3.04147313e-02,\n",
       "        4.88453450e-02, -2.32910370e-02, -7.88748118e-03, -1.34106700e-03,\n",
       "        1.35978245e-02,  2.44193102e-02, -5.10593779e-03, -4.28394819e-02,\n",
       "        8.12464328e-03, -1.57954044e-02,  1.40296339e-03, -9.56311005e-03,\n",
       "        4.16904894e-04,  2.28262370e-03, -2.51846556e-03,  1.66092903e-03,\n",
       "       -2.68145797e-15, -1.15397899e-14,  2.67436732e-15])"
      ]
     },
     "execution_count": 304,
     "metadata": {},
     "output_type": "execute_result"
    }
   ],
   "source": [
    "X_pca[0]"
   ]
  },
  {
   "cell_type": "markdown",
   "id": "turkish-southwest",
   "metadata": {},
   "source": [
    "#### first 2 PCs cover almost 97% data"
   ]
  },
  {
   "cell_type": "code",
   "execution_count": 305,
   "id": "plastic-mathematics",
   "metadata": {},
   "outputs": [],
   "source": [
    "pca=PCA(n_components=2)"
   ]
  },
  {
   "cell_type": "code",
   "execution_count": 306,
   "id": "possible-lunch",
   "metadata": {},
   "outputs": [],
   "source": [
    "X_pca=pca.fit_transform(X)"
   ]
  },
  {
   "cell_type": "code",
   "execution_count": 307,
   "id": "green-education",
   "metadata": {},
   "outputs": [
    {
     "data": {
      "text/plain": [
       "array([[ 40.24433438, -16.90201531],\n",
       "       [ 24.64433857, -12.2424431 ],\n",
       "       [ -6.95278816,  -6.85499893],\n",
       "       ...,\n",
       "       [-12.04797791,  -7.35859191],\n",
       "       [ -7.17983648,  -8.88256053],\n",
       "       [-16.28094772,   0.12693569]])"
      ]
     },
     "execution_count": 307,
     "metadata": {},
     "output_type": "execute_result"
    }
   ],
   "source": [
    "X_pca"
   ]
  },
  {
   "cell_type": "code",
   "execution_count": null,
   "id": "ultimate-bedroom",
   "metadata": {},
   "outputs": [],
   "source": []
  },
  {
   "cell_type": "code",
   "execution_count": 308,
   "id": "chicken-ultimate",
   "metadata": {},
   "outputs": [],
   "source": [
    "points=X_pca"
   ]
  },
  {
   "cell_type": "code",
   "execution_count": 309,
   "id": "solar-appointment",
   "metadata": {},
   "outputs": [],
   "source": [
    "x = points[:, 0]\n",
    "y = points[:, 1]"
   ]
  },
  {
   "cell_type": "code",
   "execution_count": 310,
   "id": "defined-lighter",
   "metadata": {},
   "outputs": [
    {
     "data": {
      "text/plain": [
       "<matplotlib.collections.PathCollection at 0x7f7cf8560520>"
      ]
     },
     "execution_count": 310,
     "metadata": {},
     "output_type": "execute_result"
    },
    {
     "data": {
      "image/png": "[encoded data removed]",
      "text/plain": [
       "<Figure size 432x288 with 1 Axes>"
      ]
     },
     "metadata": {
      "needs_background": "light"
     },
     "output_type": "display_data"
    }
   ],
   "source": [
    "plt.scatter(x, y, s=50, alpha=0.7)"
   ]
  },
  {
   "cell_type": "markdown",
   "id": "adult-guest",
   "metadata": {},
   "source": [
    "#### Finding elbow where inertias change drastically, through visualisation"
   ]
  },
  {
   "cell_type": "code",
   "execution_count": 311,
   "id": "renewable-basin",
   "metadata": {},
   "outputs": [],
   "source": [
    "inertias=[]\n",
    "for i in range(2,100):\n",
    "    kmeans = KMeans(n_clusters=i, random_state=0)\n",
    "    kmeans.fit(points)\n",
    "    inertias.append(kmeans.inertia_)"
   ]
  },
  {
   "cell_type": "code",
   "execution_count": 312,
   "id": "af6da647",
   "metadata": {},
   "outputs": [
    {
     "data": {
      "image/png": "[encoded data removed]",
      "text/plain": [
       "<Figure size 432x288 with 1 Axes>"
      ]
     },
     "metadata": {
      "needs_background": "light"
     },
     "output_type": "display_data"
    }
   ],
   "source": [
    "plt.plot(range(2, 100), inertias)\n",
    "plt.xlabel('Number of clusters')\n",
    "plt.ylabel('Inertia');"
   ]
  },
  {
   "cell_type": "code",
   "execution_count": 313,
   "id": "alpha-strike",
   "metadata": {},
   "outputs": [
    {
     "data": {
      "image/png": "[encoded data removed]",
      "text/plain": [
       "<Figure size 432x288 with 1 Axes>"
      ]
     },
     "metadata": {
      "needs_background": "light"
     },
     "output_type": "display_data"
    }
   ],
   "source": [
    "plt.plot(range(2, 32), inertias[0:30])\n",
    "plt.xlabel('Number of clusters')\n",
    "plt.ylabel('Inertia');"
   ]
  },
  {
   "cell_type": "code",
   "execution_count": 314,
   "id": "above-civilization",
   "metadata": {},
   "outputs": [
    {
     "data": {
      "text/plain": [
       "Text(0, 0.5, 'Inertia')"
      ]
     },
     "execution_count": 314,
     "metadata": {},
     "output_type": "execute_result"
    },
    {
     "data": {
      "image/png": "[encoded data removed]",
      "text/plain": [
       "<Figure size 432x288 with 1 Axes>"
      ]
     },
     "metadata": {
      "needs_background": "light"
     },
     "output_type": "display_data"
    }
   ],
   "source": [
    "plt.plot(range(2, 22), inertias[0:20])\n",
    "plt.xlabel('Number of clusters')\n",
    "plt.ylabel('Inertia')"
   ]
  },
  {
   "cell_type": "markdown",
   "id": "thick-latest",
   "metadata": {},
   "source": [
    "#### There are elbows at 7 and 10, later we could decide based on recommendations"
   ]
  },
  {
   "cell_type": "code",
   "execution_count": 315,
   "id": "alive-norway",
   "metadata": {},
   "outputs": [],
   "source": [
    "kmeans = KMeans(n_clusters=10, random_state=0)"
   ]
  },
  {
   "cell_type": "code",
   "execution_count": 316,
   "id": "honey-ordinance",
   "metadata": {},
   "outputs": [],
   "source": [
    "kmeans.fit(points)\n",
    "predicted_cluster_indexes = kmeans.predict(points)"
   ]
  },
  {
   "cell_type": "code",
   "execution_count": 317,
   "id": "9e89e4b2",
   "metadata": {},
   "outputs": [],
   "source": [
    "cluster_centres = {i : kmeans.cluster_centers_[i] for i in range(kmeans.n_clusters)}"
   ]
  },
  {
   "cell_type": "code",
   "execution_count": 318,
   "id": "09f6d458",
   "metadata": {},
   "outputs": [
    {
     "data": {
      "text/plain": [
       "{0: array([16.09234944, -9.05558558]),\n",
       " 1: array([-6.62629899,  3.15052848]),\n",
       " 2: array([24.79171401, 26.52055267]),\n",
       " 3: array([-21.75718317,   1.38197977]),\n",
       " 4: array([-6.50145904, 21.35627127]),\n",
       " 5: array([-13.51916235,  -6.6884762 ]),\n",
       " 6: array([11.93406026,  3.82552868]),\n",
       " 7: array([ 1.45153908, 58.17092999]),\n",
       " 8: array([ 0.4455961 , -7.57579365]),\n",
       " 9: array([33.60741638, -4.77537988])}"
      ]
     },
     "execution_count": 318,
     "metadata": {},
     "output_type": "execute_result"
    }
   ],
   "source": [
    "cluster_centres"
   ]
  },
  {
   "cell_type": "code",
   "execution_count": 319,
   "id": "first-language",
   "metadata": {},
   "outputs": [
    {
     "data": {
      "text/plain": [
       "<matplotlib.collections.PathCollection at 0x7f7cf81dfb80>"
      ]
     },
     "execution_count": 319,
     "metadata": {},
     "output_type": "execute_result"
    },
    {
     "data": {
      "image/png": "[encoded data removed]",
      "text/plain": [
       "<Figure size 432x288 with 1 Axes>"
      ]
     },
     "metadata": {
      "needs_background": "light"
     },
     "output_type": "display_data"
    }
   ],
   "source": [
    "plt.scatter(x, y, c=predicted_cluster_indexes, s=50, alpha=0.7, cmap='viridis')"
   ]
  },
  {
   "cell_type": "code",
   "execution_count": 321,
   "id": "excited-installation",
   "metadata": {},
   "outputs": [],
   "source": [
    "df['clusters']=predicted_cluster_indexes"
   ]
  },
  {
   "cell_type": "code",
   "execution_count": 323,
   "id": "0c5cd683",
   "metadata": {},
   "outputs": [],
   "source": [
    "search_df = pd.DataFrame([x,y,df.movie_title.values,predicted_cluster_indexes]).T\n",
    "search_df.columns = ['PC1', 'PC2', 'movie_title', 'cluster']"
   ]
  },
  {
   "cell_type": "code",
   "execution_count": 324,
   "id": "5c7a4b2f",
   "metadata": {},
   "outputs": [
    {
     "data": {
      "text/html": [
       "<div>\n",
       "<style scoped>\n",
       "    .dataframe tbody tr th:only-of-type {\n",
       "        vertical-align: middle;\n",
       "    }\n",
       "\n",
       "    .dataframe tbody tr th {\n",
       "        vertical-align: top;\n",
       "    }\n",
       "\n",
       "    .dataframe thead th {\n",
       "        text-align: right;\n",
       "    }\n",
       "</style>\n",
       "<table border=\"1\" class=\"dataframe\">\n",
       "  <thead>\n",
       "    <tr style=\"text-align: right;\">\n",
       "      <th></th>\n",
       "      <th>PC1</th>\n",
       "      <th>PC2</th>\n",
       "      <th>movie_title</th>\n",
       "      <th>cluster</th>\n",
       "    </tr>\n",
       "  </thead>\n",
       "  <tbody>\n",
       "    <tr>\n",
       "      <th>0</th>\n",
       "      <td>40.244334</td>\n",
       "      <td>-16.902015</td>\n",
       "      <td>Spectre</td>\n",
       "      <td>9</td>\n",
       "    </tr>\n",
       "    <tr>\n",
       "      <th>1</th>\n",
       "      <td>24.644339</td>\n",
       "      <td>-12.242443</td>\n",
       "      <td>John Carter</td>\n",
       "      <td>0</td>\n",
       "    </tr>\n",
       "    <tr>\n",
       "      <th>2</th>\n",
       "      <td>-6.952788</td>\n",
       "      <td>-6.854999</td>\n",
       "      <td>Tangled</td>\n",
       "      <td>5</td>\n",
       "    </tr>\n",
       "    <tr>\n",
       "      <th>3</th>\n",
       "      <td>33.29899</td>\n",
       "      <td>-16.158285</td>\n",
       "      <td>Avengers: Age of Ultron</td>\n",
       "      <td>9</td>\n",
       "    </tr>\n",
       "    <tr>\n",
       "      <th>4</th>\n",
       "      <td>45.845343</td>\n",
       "      <td>-11.440194</td>\n",
       "      <td>Harry Potter and the Half-Blood Prince</td>\n",
       "      <td>9</td>\n",
       "    </tr>\n",
       "    <tr>\n",
       "      <th>...</th>\n",
       "      <td>...</td>\n",
       "      <td>...</td>\n",
       "      <td>...</td>\n",
       "      <td>...</td>\n",
       "    </tr>\n",
       "    <tr>\n",
       "      <th>4501</th>\n",
       "      <td>-23.945386</td>\n",
       "      <td>13.00833</td>\n",
       "      <td>El Mariachi</td>\n",
       "      <td>3</td>\n",
       "    </tr>\n",
       "    <tr>\n",
       "      <th>4502</th>\n",
       "      <td>-22.306827</td>\n",
       "      <td>-0.230137</td>\n",
       "      <td>The Mongol King</td>\n",
       "      <td>3</td>\n",
       "    </tr>\n",
       "    <tr>\n",
       "      <th>4503</th>\n",
       "      <td>-12.047978</td>\n",
       "      <td>-7.358592</td>\n",
       "      <td>Newlyweds</td>\n",
       "      <td>5</td>\n",
       "    </tr>\n",
       "    <tr>\n",
       "      <th>4504</th>\n",
       "      <td>-7.179836</td>\n",
       "      <td>-8.882561</td>\n",
       "      <td>Shanghai Calling</td>\n",
       "      <td>5</td>\n",
       "    </tr>\n",
       "    <tr>\n",
       "      <th>4505</th>\n",
       "      <td>-16.280948</td>\n",
       "      <td>0.126936</td>\n",
       "      <td>My Date with Drew</td>\n",
       "      <td>3</td>\n",
       "    </tr>\n",
       "  </tbody>\n",
       "</table>\n",
       "<p>4506 rows × 4 columns</p>\n",
       "</div>"
      ],
      "text/plain": [
       "            PC1        PC2                             movie_title cluster\n",
       "0     40.244334 -16.902015                                 Spectre       9\n",
       "1     24.644339 -12.242443                             John Carter       0\n",
       "2     -6.952788  -6.854999                                 Tangled       5\n",
       "3      33.29899 -16.158285                 Avengers: Age of Ultron       9\n",
       "4     45.845343 -11.440194  Harry Potter and the Half-Blood Prince       9\n",
       "...         ...        ...                                     ...     ...\n",
       "4501 -23.945386   13.00833                             El Mariachi       3\n",
       "4502 -22.306827  -0.230137                         The Mongol King       3\n",
       "4503 -12.047978  -7.358592                               Newlyweds       5\n",
       "4504  -7.179836  -8.882561                        Shanghai Calling       5\n",
       "4505 -16.280948   0.126936                       My Date with Drew       3\n",
       "\n",
       "[4506 rows x 4 columns]"
      ]
     },
     "execution_count": 324,
     "metadata": {},
     "output_type": "execute_result"
    }
   ],
   "source": [
    "search_df"
   ]
  },
  {
   "cell_type": "code",
   "execution_count": 378,
   "id": "42842692",
   "metadata": {},
   "outputs": [],
   "source": [
    "def get_recommendations(movie_watched, df, search_df):\n",
    "    movie_info = df[df['movie_title'].str.contains(movie_watched, flags = re.IGNORECASE)]\n",
    "    if movie_info.shape[0] == 0:\n",
    "        print(f\"Uh-Oh! Couldn't find this movie in our Database.\")\n",
    "        recommendations = [df.sort_values(by = 'imdb_score', ascending = False)['movie_title'].values[0]]\n",
    "    else:\n",
    "        print(\"Movie(s) Found!\")\n",
    "        print(movie_info['movie_title'].values)\n",
    "        for _ in range(1, 3):\n",
    "            print(f\"Getting Recommendations {'*'*_}{'-'*(2-_)}\")\n",
    "            time.sleep(1)\n",
    "        movie_info.drop(['movie_title', 'clusters'], inplace=True, axis = 1)\n",
    "        features = pca.transform(movie_info)\n",
    "        features = features[0] # If there are multiple movies in search, use only the first one for now!\n",
    "        \n",
    "        dists = []\n",
    "        cluster_no = 0\n",
    "        for i in cluster_centres.values():\n",
    "            dists.append((cluster_no, np.sqrt(np.sum(np.square(features-i)))))\n",
    "            cluster_no+=1\n",
    "\n",
    "        dists = sorted(dists, key = lambda x : (x[1]))\n",
    "\n",
    "        check_clusters = [dists[0][0]]\n",
    "        for i in range(1, len(dists)):\n",
    "            if dists[i][1]-dists[0][1] <= 10:\n",
    "                check_clusters.append(dists[i][0])\n",
    "            else:\n",
    "                break\n",
    "\n",
    "        filtered_search_df = search_df.query(f'cluster in {check_clusters}')\n",
    "        filtered_search_df['dists'] = (((filtered_search_df[['PC1', 'PC2']] - features)**2)['PC1'] + ((filtered_search_df[['PC1', 'PC2']] - features)**2)['PC2'])**0.5\n",
    "        recommendations = filtered_search_df.sort_values(by = 'dists')['movie_title'].values[1:3]\n",
    "    return recommendations"
   ]
  },
  {
   "cell_type": "code",
   "execution_count": 381,
   "id": "2d81946d",
   "metadata": {},
   "outputs": [
    {
     "name": "stdout",
     "output_type": "stream",
     "text": [
      "Movie(s) Found!\n",
      "['Harry Potter and the Half-Blood Prince'\n",
      " 'Harry Potter and the Order of the Phoenix'\n",
      " 'Harry Potter and the Prisoner of Azkaban']\n",
      "Getting Recommendations *-\n",
      "Getting Recommendations **\n",
      "We recommend you watching 'Funny People' or 'Inglourious Basterds'\n"
     ]
    }
   ],
   "source": [
    "movie_name = input(\"Which movie did you watch recently?\")\n",
    "recommendations = get_recommendations(movie_name, df, search_df)\n",
    "if len(recommendations) == 1:\n",
    "    print(f\"You could try watching {recommendations[0]}\")\n",
    "else:\n",
    "    print(f\"We recommend you watching '{recommendations[0]}' or '{recommendations[1]}'\")"
   ]
  }
 ],
 "metadata": {
  "kernelspec": {
   "display_name": "Python 3.9.12 ('base')",
   "language": "python",
   "name": "python3"
  },
  "language_info": {
   "codemirror_mode": {
    "name": "ipython",
    "version": 3
   },
   "file_extension": ".py",
   "mimetype": "text/x-python",
   "name": "python",
   "nbconvert_exporter": "python",
   "pygments_lexer": "ipython3",
   "version": "3.9.12"
  },
  "vscode": {
   "interpreter": {
    "hash": "f1a5fcb58607ffedc4d5a2c9beb0c931b0e3946970cb8c9819df72e4850fe1ad"
   }
  }
 },
 "nbformat": 4,
 "nbformat_minor": 5
}
